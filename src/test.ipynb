{
 "cells": [
  {
   "cell_type": "code",
   "execution_count": 1,
   "id": "fd57d687",
   "metadata": {},
   "outputs": [],
   "source": [
    "import ollama"
   ]
  },
  {
   "cell_type": "code",
   "execution_count": 2,
   "id": "efa4dca7",
   "metadata": {},
   "outputs": [
    {
     "name": "stdout",
     "output_type": "stream",
     "text": [
      "The sky is blue because of a phenomenon called **Rayleigh scattering**. Here's a breakdown of what that means:\n",
      "\n",
      "* **Sunlight is made of all colors:**  White sunlight isn't actually white! It's a mixture of all the colors of the rainbow (red, orange, yellow, green, blue, indigo, violet).\n",
      "\n",
      "* **Light travels in waves:**  Light travels as waves.  Different colors have different wavelengths.  Blue and violet have shorter wavelengths, while red and orange have longer wavelengths.\n",
      "\n",
      "* **Rayleigh scattering:** When sunlight enters the Earth's atmosphere, it bumps into tiny air molecules (mostly nitrogen and oxygen). This bumping causes the light to scatter in all directions.  \n",
      "\n",
      "* **Blue is scattered more:**  Rayleigh scattering is *more effective* at scattering shorter wavelengths (blue and violet light) than longer wavelengths (red and orange light).  \n",
      "\n",
      "* **Why blue, not violet?** While violet light is scattered even *more* than blue light, our eyes are more sensitive to blue.  Also, the sun emits slightly less violet light than blue light.  So, we see a predominantly blue sky.\n",
      "\n",
      "**In short:**  Sunlight hits the atmosphere, the blue wavelengths scatter more than the other colors, and that's what we see when we look up!\n",
      "\n",
      "\n",
      "\n",
      "**Think of it like this:** Imagine throwing a bunch of tiny balls (light waves) at a bumpy surface (air molecules). The smaller balls (blue light) are more likely to bounce off in all directions, while the larger balls (red light) are more likely to keep going straight.\n",
      "\n",
      "\n",
      "\n",
      "\n",
      "The sky is blue because of a phenomenon called **Rayleigh scattering**. Here's a breakdown of what that means:\n",
      "\n",
      "* **Sunlight is made of all colors:**  White sunlight isn't actually white! It's a mixture of all the colors of the rainbow (red, orange, yellow, green, blue, indigo, violet).\n",
      "\n",
      "* **Light travels in waves:**  Light travels as waves.  Different colors have different wavelengths.  Blue and violet have shorter wavelengths, while red and orange have longer wavelengths.\n",
      "\n",
      "* **Rayleigh scattering:** When sunlight enters the Earth's atmosphere, it bumps into tiny air molecules (mostly nitrogen and oxygen). This bumping causes the light to scatter in all directions.  \n",
      "\n",
      "* **Blue is scattered more:**  Rayleigh scattering is *more effective* at scattering shorter wavelengths (blue and violet light) than longer wavelengths (red and orange light).  \n",
      "\n",
      "* **Why blue, not violet?** While violet light is scattered even *more* than blue light, our eyes are more sensitive to blue.  Also, the sun emits slightly less violet light than blue light.  So, we see a predominantly blue sky.\n",
      "\n",
      "**In short:**  Sunlight hits the atmosphere, the blue wavelengths scatter more than the other colors, and that's what we see when we look up!\n",
      "\n",
      "\n",
      "\n",
      "**Think of it like this:** Imagine throwing a bunch of tiny balls (light waves) at a bumpy surface (air molecules). The smaller balls (blue light) are more likely to bounce off in all directions, while the larger balls (red light) are more likely to keep going straight.\n",
      "\n",
      "\n",
      "\n",
      "\n"
     ]
    }
   ],
   "source": [
    "from ollama import chat\n",
    "from ollama import ChatResponse\n",
    "\n",
    "ollama.pull('gemma3n:e2b')\n",
    "\n",
    "response: ChatResponse = chat(model='gemma3n:e2b', messages=[\n",
    "  {\n",
    "    'role': 'user',\n",
    "    'content': 'Why is the sky blue?',\n",
    "  },\n",
    "])\n",
    "print(response['message']['content'])\n",
    "# or access fields directly from the response object\n",
    "print(response.message.content)"
   ]
  },
  {
   "cell_type": "code",
   "execution_count": null,
   "id": "c27a7dbf",
   "metadata": {},
   "outputs": [],
   "source": []
  }
 ],
 "metadata": {
  "kernelspec": {
   "display_name": "Sign-Server",
   "language": "python",
   "name": "python3"
  },
  "language_info": {
   "codemirror_mode": {
    "name": "ipython",
    "version": 3
   },
   "file_extension": ".py",
   "mimetype": "text/x-python",
   "name": "python",
   "nbconvert_exporter": "python",
   "pygments_lexer": "ipython3",
   "version": "3.11.13"
  }
 },
 "nbformat": 4,
 "nbformat_minor": 5
}
